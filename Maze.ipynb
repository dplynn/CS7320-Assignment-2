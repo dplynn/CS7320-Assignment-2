{
  "cells": [
    {
      "cell_type": "markdown",
      "metadata": {
        "id": "6b3W8aPlNdqZ"
      },
      "source": [
        "# Search: Solving a Maze Using a Goal-based Agent\n",
        "\n",
        "Student Name: Davis Lynn\n",
        "\n",
        "I have used the following AI tools: ChatGPT for debugging BFS.\n",
        "\n",
        "I understand that my submission needs to be my own work: DPL"
      ]
    },
    {
      "cell_type": "markdown",
      "metadata": {
        "id": "OlZphY7zNdqa"
      },
      "source": [
        "## Learning Outcomes\n",
        "\n",
        "* Formulate search problems using key components like initial state, actions, and goal state in a deterministic, fully observable environment.\n",
        "* Implement and compare search algorithms including BFS, DFS, GBFS, A*, and IDS for planning paths through mazes.\n",
        "* Analyze algorithm performance by measuring path cost, node expansions, depth, and memory usage across various maze types.\n",
        "* Use visualization tools to represent maze paths and support debugging and analysis."
      ]
    },
    {
      "cell_type": "markdown",
      "metadata": {
        "id": "By22kYd6Ndqb"
      },
      "source": [
        "## Instructions\n",
        "\n",
        "Total Points: Undergrads 100 + 5 bonus / Graduate students 110\n",
        "\n",
        "Complete this notebook. Use the provided notebook cells and insert additional code and markdown cells as needed. Submit the notebook file and the completely rendered notebook with all outputs as a HTML file.\n",
        "\n",
        "\n",
        "## Introduction\n",
        "\n",
        "In this exercise, we will implement the planning function for a type of goal-based agent called a __planning agent__. The planning function uses a map it is given to plan a path through the maze from the starting location $S$ to the goal location $G$. We will only focus on the planning function, so you do not need to implement an environment, just use the map to search for a path to solve the maze.\n",
        "\n",
        "Once the plan is made, the agent in a deterministic environment (i.e., the transition function is deterministic with the outcome of each state/action pair fixed and no randomness) can just follow the plan step-by-step and does not need to care about the percepts.\n",
        "This is also called an **[open-loop system](https://en.wikipedia.org/wiki/Open-loop_controller).**\n",
        "The execution phase is trivial and can be executed using a model-based reflex agent\n",
        "that ignores all percepts and just follows the plan. I will show you a short example, but you do not implement it in this exercise.\n",
        "\n",
        "Given that the agent has a complete and correct map, the environment is **fully observable, discrete, deterministic, and known.**\n",
        "Remember:\n",
        "\n",
        "* **Fully observable** means that the agent can see its state and what the available actions are. That means the **percepts contain the complete current state.**\n",
        "Here, during planning, the agent always sees its x and y coordinates on the map and\n",
        "also seeks when it has reached the goal state.\n",
        "* **Discrete** means that we have a **finite set of states.** The maze has a finite set\n",
        "of squares the agent can be in.\n",
        "* **Deterministic** means that the **transition function contains no randomness.** An action in a state will always produce the same result. Going south from the start state always will lead to the same square.\n",
        "* **Know** means that the agent **knows the complete transition function.** The\n",
        "agent has the map and therefore knows how its position changes when it walks in a direction.\n",
        "\n",
        "Tree search algorithm implementations that you find online typically come from data structures courses and have a different aim than AI tree search. These algorithms assume that you already have a tree in memory. We are interested in dynamically creating a search tree with the aim of finding a good/the best path from the root note to the goal state. Follow the pseudo code presented in the text book (and replicated in the slides) closely. Ideally, we would like to search only a small part of the maze, i.e., create a search tree with as few nodes as possible.\n",
        "\n",
        "Several mazes for this exercise are stored as text files. Here is the small example maze:"
      ]
    },
    {
      "cell_type": "code",
      "execution_count": 155,
      "metadata": {
        "id": "wI7J8bTkNdqb",
        "outputId": "a343f741-54bb-418b-deb6-e9db023d7780"
      },
      "outputs": [
        {
          "name": "stdout",
          "output_type": "stream",
          "text": [
            "XXXXXXXXXXXXXXXXXXXXXX\n",
            "X XX        X X      X\n",
            "X    XXXXXX X XXXXXX X\n",
            "XXXXXX     S  X      X\n",
            "X    X XXXXXX XX XXXXX\n",
            "X XXXX X         X   X\n",
            "X        XXX XXX   X X\n",
            "XXXXXXXXXX    XXXXXX X\n",
            "XG         XX        X\n",
            "XXXXXXXXXXXXXXXXXXXXXX\n",
            "\n"
          ]
        }
      ],
      "source": [
        "with open(\"Mazes/small_maze.txt\", \"r\") as f:\n",
        "    maze_str = f.read()\n",
        "print(maze_str)"
      ]
    },
    {
      "cell_type": "markdown",
      "metadata": {
        "id": "jC8ypF8INdqb"
      },
      "source": [
        "**Note:** If you get an error here that the file cannot be found, then you need to download it. See [HOWTO Work on Assignments.](https://github.com/mhahsler/CS7320-AI/blob/master/HOWTOs/working_on_assignments.md)"
      ]
    },
    {
      "cell_type": "markdown",
      "metadata": {
        "id": "Q6Ak5M9RNdqc"
      },
      "source": [
        "## Parsing and pretty printing the maze\n",
        "\n",
        "The maze can also be displayed in color using code in the module [maze_helper.py](maze_helper.py). The code parses the string representing the maze and converts it into a `numpy` 2d array which you can use in your implementation. Position are represented as a 2-tuple of the form `(row, col)`."
      ]
    },
    {
      "cell_type": "code",
      "execution_count": 156,
      "metadata": {
        "id": "jmGhtD-_Ndqc",
        "outputId": "b2f320f1-b0c3-4ade-af82-2a1f928fbac4",
        "tags": []
      },
      "outputs": [
        {
          "name": "stdout",
          "output_type": "stream",
          "text": [
            "Position(0,0): X\n",
            "Position(8,1): G\n"
          ]
        }
      ],
      "source": [
        "import maze_helper as mh\n",
        "\n",
        "maze = mh.parse_maze(maze_str)\n",
        "\n",
        "# look at a position in the maze by subsetting the 2d array\n",
        "print(\"Position(0,0):\", maze[0, 0])\n",
        "\n",
        "# there is also a helper function called `look(maze, pos)` available\n",
        "# which uses a 2-tuple for the position.\n",
        "print(\"Position(8,1):\", mh.look(maze, (8, 1)))"
      ]
    },
    {
      "cell_type": "markdown",
      "metadata": {
        "id": "oC9PnylvNdqc"
      },
      "source": [
        "A helper function to visualize the maze is also available."
      ]
    },
    {
      "cell_type": "code",
      "execution_count": 157,
      "metadata": {
        "id": "JSYRA34nNdqd",
        "outputId": "7ceb535e-e6ec-4f2a-dc58-8218554ba60d"
      },
      "outputs": [
        {
          "data": {
            "image/png": "[encoded data removed]",
            "text/plain": [
              "<Figure size 640x480 with 1 Axes>"
            ]
          },
          "metadata": {
            "image/png": {
              "height": 269,
              "width": 534
            }
          },
          "output_type": "display_data"
        }
      ],
      "source": [
        "%matplotlib inline\n",
        "%config InlineBackend.figure_format = 'retina'\n",
        "# use higher resolution images in notebooks\n",
        "\n",
        "mh.show_maze(maze)"
      ]
    },
    {
      "cell_type": "markdown",
      "metadata": {
        "id": "lnl3bdCbNdqd"
      },
      "source": [
        "Find the `(x,y)` position of the start and the goal using the helper function `find_pos()`"
      ]
    },
    {
      "cell_type": "code",
      "execution_count": 158,
      "metadata": {
        "id": "p8of-W5JNdqe",
        "outputId": "dbd7a760-3921-4397-a15d-527000d047c7"
      },
      "outputs": [
        {
          "name": "stdout",
          "output_type": "stream",
          "text": [
            "Start location: (np.int64(3), np.int64(11))\n",
            "Goal location: (np.int64(8), np.int64(1))\n"
          ]
        }
      ],
      "source": [
        "print(\"Start location:\", mh.find_pos(maze, what = \"S\"))\n",
        "print(\"Goal location:\", mh.find_pos(maze, what = \"G\"))"
      ]
    },
    {
      "cell_type": "markdown",
      "metadata": {
        "id": "6Kz_QQCANdqf"
      },
      "source": [
        "Helper function documentation."
      ]
    },
    {
      "cell_type": "code",
      "execution_count": 159,
      "metadata": {
        "id": "Jvdg8lQcNdqf",
        "outputId": "180ae108-20ce-41a9-b95a-f864ecb2bd58"
      },
      "outputs": [
        {
          "name": "stdout",
          "output_type": "stream",
          "text": [
            "Help on module maze_helper:\n",
            "\n",
            "NAME\n",
            "    maze_helper\n",
            "\n",
            "DESCRIPTION\n",
            "    Code for the Maze Assignment by Michael Hahsler\n",
            "    Usage: \n",
            "        import maze_helper as mh\n",
            "        mh.show_some_mazes()\n",
            "\n",
            "FUNCTIONS\n",
            "    animate_maze(result, repeat=False)\n",
            "        (Experimental) Build an animation from a list of mazes. This needs ffmpeg to be installed.\n",
            "        \n",
            "        Parameters: \n",
            "            result: a list with the elements path, reached, actions and maze_anim with a list of maze arrays that contain what you want to visualize.\n",
            "            repeat: if True, the animation will repeat.\n",
            "    \n",
            "    find_pos(maze, what='S')\n",
            "        Find start/goal in a maze and returns the first one. \n",
            "        Caution: there is no error checking!\n",
            "        \n",
            "        Parameters:\n",
            "            maze: a array with characters produced by parse_maze()\n",
            "            what: the letter to be found ('S' for start and 'G' for goal)\n",
            "        \n",
            "        Returns:\n",
            "            a tupple (x, y) for the found position.\n",
            "    \n",
            "    look(maze, pos)\n",
            "        Look at the label of a square with the position as an array of the form (x, y).\n",
            "        \n",
            "        Parameters:\n",
            "            maze: a array with characters produced by parse_maze()\n",
            "            pos: a tupple (x, y) for the position to be looked at.\n",
            "        \n",
            "        Returns:\n",
            "            the character at that position.\n",
            "    \n",
            "    parse_maze(maze_str)\n",
            "        Convert a maze as a string into a 2d numpy array.\n",
            "        \n",
            "        Parameters:\n",
            "            maze_str: a string representation of a maze, e.g., as read from a file\n",
            "        \n",
            "        Returns:\n",
            "            a 2d numpy array with characters as tiles.\n",
            "    \n",
            "    show_maze(maze, fontsize=10)\n",
            "        Display a (parsed) maze as an image. \n",
            "        \n",
            "        Parameters:\n",
            "            maze: a numpy array with characters as produced by parse_maze(). You can use in the array\n",
            "                  ' ' for empty squares, 'X' for walls, 'S' for start, 'G' for goal,\n",
            "                  'P' for the final path, '.' for explored squares, and 'F' for frontier squares. These will\n",
            "                  be shown in different colors.\n",
            "            fontsize: size of the S and G labels.\n",
            "    \n",
            "    welcome()\n",
            "        Welcome message.\n",
            "\n",
            "FILE\n",
            "    c:\\users\\davis\\onedrive\\documents\\github\\cs7320-assignment-2\\maze_helper.py\n",
            "\n",
            "\n"
          ]
        }
      ],
      "source": [
        "help(mh)"
      ]
    },
    {
      "cell_type": "markdown",
      "metadata": {
        "id": "cTmclW5rNdqf"
      },
      "source": [
        "You will need to make a local copy of the module file [maze_helper.py](maze_helper.py) in the same folder where your notebook is."
      ]
    },
    {
      "cell_type": "markdown",
      "metadata": {
        "id": "Pja2XrXhNdqf"
      },
      "source": [
        "## An Example for a Planning Agent\n",
        "\n",
        "I will show you here how to implement a simple agent that uses a random plan. It will not solve the maze, but show you how the mechanics work.\n",
        "\n",
        "First, we define a generic planning agent that fist plans, and then executes the plan step-by-step."
      ]
    },
    {
      "cell_type": "code",
      "execution_count": 160,
      "metadata": {
        "id": "X1obMLDWNdqf"
      },
      "outputs": [],
      "source": [
        "class Planning_Agent:\n",
        "    def __init__(self, maze, start, goal, planning_function):\n",
        "        self.maze = maze\n",
        "        self.start = start\n",
        "        self.goal = goal\n",
        "        self.planning_function = planning_function\n",
        "        self.plan = None\n",
        "        self.progress = None\n",
        "\n",
        "    def act(self):\n",
        "        # plan if no plan exists\n",
        "        if self.plan is None:\n",
        "            print(\"Planning...\")\n",
        "            self.plan = self.planning_function(self.maze, self.start, self.goal)\n",
        "            self.progress = 0\n",
        "\n",
        "        # check if plan is completed\n",
        "        if self.progress >= len(self.plan):\n",
        "            raise Exception(\"Completed Plan. No more planned actions\")\n",
        "\n",
        "        # follow the plan\n",
        "        action = self.plan[self.progress]\n",
        "        print(f\"Following plan... step {self.progress}: {action}\")\n",
        "\n",
        "        self.progress += 1\n",
        "        return action"
      ]
    },
    {
      "cell_type": "markdown",
      "metadata": {
        "id": "-c0TAgMmNdqg"
      },
      "source": [
        "Next, we define the planning function. This function is what you will implement in this assignment.  "
      ]
    },
    {
      "cell_type": "code",
      "execution_count": 161,
      "metadata": {
        "id": "EcfUIWtpNdqg",
        "outputId": "76c68fe3-10fd-4b44-941a-50a6dd959fdc"
      },
      "outputs": [
        {
          "data": {
            "text/plain": [
              "['W', 'E', 'E', 'S', 'E', 'W', 'N', 'S', 'W', 'W']"
            ]
          },
          "execution_count": 161,
          "metadata": {},
          "output_type": "execute_result"
        }
      ],
      "source": [
        "import numpy as np\n",
        "\n",
        "def plan_random(maze, start, goal):\n",
        "    \"\"\"Create a random plan with 10 steps\"\"\"\n",
        "    plan = np.random.choice([\"N\", \"E\", \"S\", \"W\"], size=10, replace=True).tolist()\n",
        "    return plan\n",
        "\n",
        "plan_random(maze, (1,1), (8,8))"
      ]
    },
    {
      "cell_type": "markdown",
      "metadata": {
        "id": "qmkc6ObgNdqg"
      },
      "source": [
        "This planning function is not great and will not produce a plan that solves the maze. Your planning functions will do better.\n",
        "\n",
        "Finally, we can create the planning agent, give it the planning function and implement a simple environment that asks it 11 times for an action."
      ]
    },
    {
      "cell_type": "code",
      "execution_count": 162,
      "metadata": {
        "id": "JetqiwUVNdqg",
        "outputId": "a8b5c6a4-cfa5-4ee9-b34d-75846af3aaa2"
      },
      "outputs": [
        {
          "name": "stdout",
          "output_type": "stream",
          "text": [
            "Planning...\n",
            "Following plan... step 0: E\n",
            "Following plan... step 1: E\n",
            "Following plan... step 2: S\n",
            "Following plan... step 3: S\n",
            "Following plan... step 4: N\n",
            "Following plan... step 5: N\n",
            "Following plan... step 6: W\n",
            "Following plan... step 7: W\n",
            "Following plan... step 8: W\n",
            "Following plan... step 9: E\n",
            "Agent exception: Completed Plan. No more planned actions\n"
          ]
        }
      ],
      "source": [
        "my_agent = Planning_Agent(maze, mh.find_pos(maze, what = \"S\"), mh.find_pos(maze, what = \"G\"), plan_random)\n",
        "\n",
        "def environment(agent_function, steps):\n",
        "    for _ in range(steps):\n",
        "        try:\n",
        "            agent_function()\n",
        "        except Exception as e:\n",
        "            print(f\"Agent exception: {e}\")\n",
        "\n",
        "environment(my_agent.act, steps=11)"
      ]
    },
    {
      "cell_type": "markdown",
      "metadata": {
        "id": "Qb6WloHeNdqg"
      },
      "source": [
        "Note: The agent and environment implementation above is just an illustration. You will only implement and experiment with different versions of the planning function."
      ]
    },
    {
      "cell_type": "markdown",
      "metadata": {
        "id": "vvt07xqgNdqg"
      },
      "source": [
        "## Tree structure\n",
        "\n",
        "To use tree search, you will need to implement a tree data structure in Python.\n",
        "Here is an implementation of the basic node structure for the search algorithms (see Fig 3.7 on page 73). I have added a method that extracts the path from the root node to the current node. It can be used to get the path when the search is completed."
      ]
    },
    {
      "cell_type": "code",
      "execution_count": 163,
      "metadata": {
        "id": "9qFTBgczNdqg"
      },
      "outputs": [],
      "source": [
        "class Node:\n",
        "    def __init__(self, pos, parent, action, cost):\n",
        "        self.pos = tuple(pos)    # the state; positions are (row,col)\n",
        "        self.parent = parent     # reference to parent node. None means root node.\n",
        "        self.action = action     # action used in the transition function (root node has None)\n",
        "        self.cost = cost         # for uniform cost this is the depth. It is also g(n) for A* search\n",
        "\n",
        "    def __str__(self):\n",
        "        return f\"Node - pos = {self.pos}; action = {self.action}; cost = {self.cost}\"\n",
        "\n",
        "    def get_path_from_root(self):\n",
        "        \"\"\"returns nodes on the path from the root to the current node.\"\"\"\n",
        "        node = self\n",
        "        path = [node]\n",
        "\n",
        "        while not node.parent is None:\n",
        "            node = node.parent\n",
        "            path.append(node)\n",
        "\n",
        "        path.reverse()\n",
        "\n",
        "        return(path)"
      ]
    },
    {
      "cell_type": "markdown",
      "metadata": {
        "id": "aB79sFPjNdqg"
      },
      "source": [
        "If needed, then you can add more fields to the class like the heuristic value $h(n)$ or $f(n)$.\n",
        "\n",
        "Examples for how to create and use a tree and information on memory management can be found [here](../HOWTOs/trees.ipynb)."
      ]
    },
    {
      "cell_type": "markdown",
      "metadata": {
        "id": "rc7UykcUNdqg"
      },
      "source": [
        "# Tasks\n",
        "\n",
        "The goal is to:\n",
        "\n",
        "1. Implement the following search algorithms for solving different mazes:\n",
        "\n",
        "    - Breadth-first search (BFS)\n",
        "    - Depth-first search (DFS)\n",
        "    - Greedy best-first search (GBFS)\n",
        "    - A* search\n",
        "\n",
        "2. Run each of the above algorithms on the\n",
        "    - [small maze](small_maze.txt),\n",
        "    - [medium maze](medium_maze.txt),\n",
        "    - [large maze](large_maze.txt),\n",
        "    - [open maze](open_maze.txt),\n",
        "    - [L maze](L_maze.txt),\n",
        "    - [loops maze](loops_maze.txt),\n",
        "    - [empty maze](empty_maze.txt), and\n",
        "    - [empty maze (rotated)](empty_maze_2.txt).\n",
        "    \n",
        "3. For each problem instance and each search algorithm, report the following in a table:\n",
        "\n",
        "    - The solution and its path cost\n",
        "    - Total number of nodes expanded\n",
        "    - Maximum tree depth\n",
        "    - Maximum size of the frontier\n",
        "\n",
        "4. Display each solution by marking every maze square (or state) visited and the squares on the final path.\n",
        "\n",
        "## General [10 Points]\n",
        "\n",
        "1. Make sure that you use the latest version of this notebook.\n",
        "2. Your implementation can use libraries like math, numpy, scipy, but not libraries that implement intelligent agents or complete search algorithms. Try to keep the code simple! In this course, we want to learn about the algorithms and we often do not need to use object-oriented design.\n",
        "3. You notebook needs to be formatted professionally.\n",
        "    - Add additional markdown blocks for your description, comments in the code, add tables and use mathplotlib to produce charts where appropriate\n",
        "    - Do not show debugging output or include an excessive amount of output.\n",
        "    - Check that your submitted file is readable and contains all figures.\n",
        "4. Document your code. Use comments in the code and add a discussion of how your implementation works and your design choices."
      ]
    },
    {
      "cell_type": "markdown",
      "metadata": {
        "id": "DIRWsdcrNdqh"
      },
      "source": [
        "## Task 1: Defining the search problem and determining the problem size [10 Points]\n",
        "\n",
        "Define the components of the search problem:\n",
        "\n",
        "* Initial state\n",
        "* Actions\n",
        "* Transition model\n",
        "* Goal state\n",
        "* Path cost\n",
        "\n",
        "Use verbal descriptions, variables and equations as appropriate.\n",
        "\n",
        "*Note:* You can swich the next block from code to Markdown and use formating."
      ]
    },
    {
      "cell_type": "markdown",
      "metadata": {},
      "source": [
        "\n",
        "* Initial state\n",
        "    - The starting point of the maze, a known point within a nxm set of values. \n",
        "* Actions\n",
        "    - The agent can move N,S,E,W based on its position, but cannot overlap with walls, marked by an X. The agent can only move one square at a time, meaning it cannot jump over other objects.\n",
        "* Transition model\n",
        "    - Result(South) = (X+1,Y)\n",
        "    - Result(North) = (X-1,Y)\n",
        "    - Result(East) = (X,Y-1)\n",
        "    - Result(West) = (X,Y+1)\n",
        "\n",
        "* Goal state\n",
        "    - The agent must traverse the maze to reach the end goal coordinate within the maze. This end goal is static, and must be reached using the rules assigned in the above actions section.\n",
        "* Path cost\n",
        "    - The cost of the agent is the number of steps needed to reach the goal coordinate, a more efficient algorithm requires less steps to solve the maze."
      ]
    },
    {
      "cell_type": "markdown",
      "metadata": {
        "id": "eyZbVxFLNdqh"
      },
      "source": [
        "## Task 2: Uninformed search: Breadth-first and depth-first [40 Points]\n",
        "\n",
        "Implement these search strategies. Follow the pseudocode in the textbook/slides. You can use the tree structure shown above to extract the final path from your solution.\n",
        "\n",
        "Read the following **important notes** carefully:\n",
        "* You can find maze solving implementations online that use the map to store information. While this is an effective idea for this two-dimensional navigation problem, it typically cannot be used for other search problems. Therefore, follow the textbook and **do not store information in the map.** Only store information in the tree created during search, and use the `reached` and `frontier` data structures where appropriate.\n",
        "* DSF behavior can be implemented using the BFS tree search algorithm and simply changing the order in which the frontier is expanded (this is equivalent to best-first search with path length as the criterion to expand the next node). However, this would be a big mistake since it combines the bad space complexity of BFS with the bad time complexity of DFS! **To take advantage of the significantly smaller memory footprint of DFS, you need to implement DFS in a different way without a `reached` data structure (often also called `visited` or `explored`) and by releasing the memory for nodes that are not needed anymore.**\n",
        "* Since the proper implementation of DFS does not use a `reached` data structure, redundant path checking abilities are limited to cycle checking.\n",
        "You need to implement **cycle checking since DSF is incomplete (produces an infinite loop) if cycles cannot be prevented.** You will see in your experiments that cycle checking in open spaces is challenging."
      ]
    },
    {
      "cell_type": "code",
      "execution_count": 164,
      "metadata": {
        "id": "-yoZXRAyNdqh"
      },
      "outputs": [],
      "source": [
        "\n",
        "directions = [\"N\", \"E\", \"S\", \"W\"]\n",
        "\n",
        "def expand_node(node, maze):\n",
        "    current = node.pos\n",
        "    children = []\n",
        "    for direction in directions:\n",
        "        match direction: #switch case to change position based on directions\n",
        "            case \"N\":\n",
        "                #print(\"North\")\n",
        "                new_pos = (current[0] - 1, current[1])\n",
        "            case \"E\":\n",
        "                new_pos = (current[0], current[1] + 1)\n",
        "                #print(\"East\")\n",
        "            case \"S\":\n",
        "                #print(\"South\")\n",
        "                new_pos = (current[0] + 1, current[1])\n",
        "            case \"W\":\n",
        "                #print(\"West\")\n",
        "                new_pos = (current[0], current[1] - 1)\n",
        "\n",
        "        if mh.look(maze, new_pos) != \"X\": # not a wall\n",
        "            #print(f\"Valid move to {new_pos}\")\n",
        "            children.append((direction, new_pos))\n",
        "        else:\n",
        "            #print(f\"Invalid move to {new_pos}\")\n",
        "            pass\n",
        "    return children\n",
        "\n",
        "\n",
        "def breadth_first_search(maze):\n",
        "    start = mh.find_pos(maze, what = \"S\")\n",
        "    goal = mh.find_pos(maze, what = \"G\")\n",
        "    start_node = Node(start, None, None, 0)\n",
        "    \n",
        "    frontier = [start_node]\n",
        "    reached = {start_node.pos}\n",
        "    \n",
        "    number_of_nodes_expanded = 0\n",
        "    max_depth = 0 \n",
        "    max_frontier = 0\n",
        "\n",
        "    while not len(frontier) == 0: # while frontier is not empty\n",
        "        node = frontier.pop(0)  # FIFO queue for BFS\n",
        "\n",
        "        for child in expand_node(node, maze): #for each child node that is expanded\n",
        "                action = child[0] # direction\n",
        "                child_node = child[1] # position (row,col)\n",
        "                s=Node(child_node, node, action, cost = node.cost + 1)\n",
        "                number_of_nodes_expanded += 1\n",
        "                p= s.get_path_from_root()\n",
        "                path = [n.action for n in p]\n",
        "                if len(path) > max_depth:\n",
        "                        max_depth = len(path)\n",
        "                if child_node == goal:\n",
        "                     cost = node.cost # path cost for solution\n",
        "                     return path, cost, number_of_nodes_expanded, max_depth, max_frontier\n",
        "                if not child_node in reached:\n",
        "                        reached.add(child_node) # add to reached set\n",
        "                        frontier.append(s) # add to frontier\n",
        "                        if len(frontier) > max_frontier:\n",
        "                                max_frontier = len(frontier) # update max frontier size\n",
        "    print(\"No solution found\") # Worst Case, should not trigger\n",
        "    return None #Worst Case, should not trigger\n"
      ]
    },
    {
      "cell_type": "code",
      "execution_count": 165,
      "metadata": {},
      "outputs": [],
      "source": [
        "def check_cycle(node):\n",
        "    reached= node.get_path_from_root()[:-1] # all nodes from root to parent of current node\n",
        "    if node.pos in [n.pos for n in reached]:\n",
        "        return True # cycle detected within tree\n",
        "    return False # no cycle detected\n",
        "def depth_first_search(maze):\n",
        "    start = mh.find_pos(maze, what = \"S\")\n",
        "    goal = mh.find_pos(maze, what = \"G\")\n",
        "    start_node = Node(start, None, None, 0)\n",
        "\n",
        "    number_of_nodes_expanded = 0\n",
        "    max_depth = 0 \n",
        "    max_frontier = 0\n",
        "\n",
        "    frontier = [start_node]\n",
        "\n",
        "    while not len(frontier) == 0: # while frontier is not empty\n",
        "        node = frontier.pop()  # LIFO queue for DFS\n",
        "    \n",
        "        if node.pos == goal: \n",
        "            p= node.get_path_from_root()\n",
        "            path = [n.action for n in p]\n",
        "            cost = node.cost # path cost for solution\n",
        "            return path, cost, number_of_nodes_expanded, max_depth, max_frontier\n",
        "        if not check_cycle(node): # check for cycles, only expand if no cycle\n",
        "            for child in expand_node(node, maze): #for each child node that is expanded\n",
        "                action = child[0] # direction\n",
        "                child_node = child[1] # position (row,col)\n",
        "                s=Node(child_node, node, action, cost = node.cost + 1) # create new node, increase cost by 1 \n",
        "                number_of_nodes_expanded += 1\n",
        "                p= s.get_path_from_root() \n",
        "                path = [n.action for n in p]\n",
        "                if len(path) > max_depth:\n",
        "                        max_depth = len(path) # update max depth\n",
        "                frontier.append(s) # add to frontier\n",
        "                if len(frontier) > max_frontier:\n",
        "                        max_frontier = len(frontier) # update max frontier size\n",
        "            \n",
        "    print(\"No solution found\") # Worst Case, should not trigger\n",
        "    return None #Worst Case, should not trigger    \n"
      ]
    },
    {
      "cell_type": "code",
      "execution_count": 166,
      "metadata": {},
      "outputs": [
        {
          "name": "stdout",
          "output_type": "stream",
          "text": [
            "Path to goal: [None, 'E', 'E', 'S', 'S', 'W', 'S', 'S', 'W', 'W', 'S', 'W', 'W', 'W', 'W', 'W', 'W', 'W', 'W', 'W']\n",
            "Cost of path: 18\n",
            "Number of nodes expanded: 185\n",
            "Max depth reached: 20\n",
            "Max size of frontier: 9\n"
          ]
        }
      ],
      "source": [
        "#test BFS\n",
        "\n",
        "f = open(\"Mazes/small_maze.txt\", \"r\")\n",
        "maze_str = f.read()\n",
        "maze = mh.parse_maze(maze_str)\n",
        "result_path, result_cost, result_num_expanded, result_max_depth, result_max_frontier = breadth_first_search(maze)\n",
        "print(\"Path to goal:\", result_path)\n",
        "print(\"Cost of path:\", result_cost)\n",
        "print(\"Number of nodes expanded:\", result_num_expanded)\n",
        "print(\"Max depth reached:\", result_max_depth)\n",
        "print(\"Max size of frontier:\", result_max_frontier)"
      ]
    },
    {
      "cell_type": "code",
      "execution_count": 167,
      "metadata": {},
      "outputs": [
        {
          "name": "stdout",
          "output_type": "stream",
          "text": [
            "Path to goal: [None, 'W', 'W', 'W', 'W', 'W', 'S', 'S', 'S', 'E', 'E', 'N', 'E', 'E', 'E', 'E', 'S', 'S', 'W', 'W', 'S', 'W', 'W', 'W', 'W', 'W', 'W', 'W', 'W', 'W']\n",
            "Cost of path: 29\n",
            "Number of nodes expanded: 81\n",
            "Max depth reached: 30\n",
            "Max size of frontier: 26\n"
          ]
        }
      ],
      "source": [
        "#test DFS\n",
        "f = open(\"Mazes/small_maze.txt\", \"r\")\n",
        "maze_str = f.read()\n",
        "maze = mh.parse_maze(maze_str)\n",
        "result_path, result_cost, result_num_expanded, result_max_depth, result_max_frontier = depth_first_search(maze)\n",
        "print(\"Path to goal:\", result_path)\n",
        "print(\"Cost of path:\", result_cost)\n",
        "print(\"Number of nodes expanded:\", result_num_expanded)\n",
        "print(\"Max depth reached:\", result_max_depth)\n",
        "print(\"Max size of frontier:\", result_max_frontier)\n"
      ]
    },
    {
      "cell_type": "code",
      "execution_count": 168,
      "metadata": {},
      "outputs": [
        {
          "name": "stdout",
          "output_type": "stream",
          "text": [
            "Breadth First Search Results:\n",
            "--------------------------\n",
            "  Running trial 0 for maze Mazes/small_maze.txt\n",
            "  Running trial 10 for maze Mazes/small_maze.txt\n",
            "  Running trial 20 for maze Mazes/small_maze.txt\n",
            "  Running trial 30 for maze Mazes/small_maze.txt\n",
            "  Running trial 40 for maze Mazes/small_maze.txt\n",
            "  Running trial 50 for maze Mazes/small_maze.txt\n",
            "  Running trial 60 for maze Mazes/small_maze.txt\n",
            "  Running trial 70 for maze Mazes/small_maze.txt\n",
            "  Running trial 80 for maze Mazes/small_maze.txt\n",
            "  Running trial 90 for maze Mazes/small_maze.txt\n",
            "Maze: Mazes/small_maze.txt\n",
            "Average Time: 0.0003 seconds\n",
            "Average Cost of path: 18.0000\n",
            "Number of nodes expanded: 185.0000\n",
            "Max depth reached: 20.0000\n",
            "Max size of frontier: 9.0000\n",
            "--------------------------\n",
            "  Running trial 0 for maze Mazes/medium_maze.txt\n",
            "  Running trial 10 for maze Mazes/medium_maze.txt\n",
            "  Running trial 20 for maze Mazes/medium_maze.txt\n",
            "  Running trial 30 for maze Mazes/medium_maze.txt\n",
            "  Running trial 40 for maze Mazes/medium_maze.txt\n",
            "  Running trial 50 for maze Mazes/medium_maze.txt\n",
            "  Running trial 60 for maze Mazes/medium_maze.txt\n",
            "  Running trial 70 for maze Mazes/medium_maze.txt\n",
            "  Running trial 80 for maze Mazes/medium_maze.txt\n",
            "  Running trial 90 for maze Mazes/medium_maze.txt\n",
            "Maze: Mazes/medium_maze.txt\n",
            "Average Time: 0.0009 seconds\n",
            "Average Cost of path: 42.5000\n",
            "Number of nodes expanded: 366.0000\n",
            "Max depth reached: 44.5000\n",
            "Max size of frontier: 9.0000\n",
            "--------------------------\n",
            "  Running trial 0 for maze Mazes/large_maze.txt\n",
            "  Running trial 10 for maze Mazes/large_maze.txt\n",
            "  Running trial 20 for maze Mazes/large_maze.txt\n",
            "  Running trial 30 for maze Mazes/large_maze.txt\n",
            "  Running trial 40 for maze Mazes/large_maze.txt\n",
            "  Running trial 50 for maze Mazes/large_maze.txt\n",
            "  Running trial 60 for maze Mazes/large_maze.txt\n",
            "  Running trial 70 for maze Mazes/large_maze.txt\n",
            "  Running trial 80 for maze Mazes/large_maze.txt\n",
            "  Running trial 90 for maze Mazes/large_maze.txt\n",
            "Maze: Mazes/large_maze.txt\n",
            "Average Time: 0.0030 seconds\n",
            "Average Cost of path: 98.0000\n",
            "Number of nodes expanded: 656.6667\n",
            "Max depth reached: 100.0000\n",
            "Max size of frontier: 8.6667\n",
            "--------------------------\n",
            "  Running trial 0 for maze Mazes/open_maze.txt\n",
            "  Running trial 10 for maze Mazes/open_maze.txt\n",
            "  Running trial 20 for maze Mazes/open_maze.txt\n",
            "  Running trial 30 for maze Mazes/open_maze.txt\n",
            "  Running trial 40 for maze Mazes/open_maze.txt\n",
            "  Running trial 50 for maze Mazes/open_maze.txt\n",
            "  Running trial 60 for maze Mazes/open_maze.txt\n",
            "  Running trial 70 for maze Mazes/open_maze.txt\n",
            "  Running trial 80 for maze Mazes/open_maze.txt\n",
            "  Running trial 90 for maze Mazes/open_maze.txt\n",
            "Maze: Mazes/open_maze.txt\n",
            "Average Time: 0.0035 seconds\n",
            "Average Cost of path: 86.7500\n",
            "Number of nodes expanded: 1119.7500\n",
            "Max depth reached: 88.7500\n",
            "Max size of frontier: 12.7500\n",
            "--------------------------\n",
            "  Running trial 0 for maze Mazes/loops_maze.txt\n",
            "  Running trial 10 for maze Mazes/loops_maze.txt\n",
            "  Running trial 20 for maze Mazes/loops_maze.txt\n",
            "  Running trial 30 for maze Mazes/loops_maze.txt\n",
            "  Running trial 40 for maze Mazes/loops_maze.txt\n",
            "  Running trial 50 for maze Mazes/loops_maze.txt\n",
            "  Running trial 60 for maze Mazes/loops_maze.txt\n",
            "  Running trial 70 for maze Mazes/loops_maze.txt\n",
            "  Running trial 80 for maze Mazes/loops_maze.txt\n",
            "  Running trial 90 for maze Mazes/loops_maze.txt\n",
            "Maze: Mazes/loops_maze.txt\n",
            "Average Time: 0.0029 seconds\n",
            "Average Cost of path: 73.8000\n",
            "Number of nodes expanded: 932.2000\n",
            "Max depth reached: 75.8000\n",
            "Max size of frontier: 11.8000\n",
            "--------------------------\n",
            "  Running trial 0 for maze Mazes/empty_maze.txt\n",
            "  Running trial 10 for maze Mazes/empty_maze.txt\n",
            "  Running trial 20 for maze Mazes/empty_maze.txt\n",
            "  Running trial 30 for maze Mazes/empty_maze.txt\n",
            "  Running trial 40 for maze Mazes/empty_maze.txt\n",
            "  Running trial 50 for maze Mazes/empty_maze.txt\n",
            "  Running trial 60 for maze Mazes/empty_maze.txt\n",
            "  Running trial 70 for maze Mazes/empty_maze.txt\n",
            "  Running trial 80 for maze Mazes/empty_maze.txt\n",
            "  Running trial 90 for maze Mazes/empty_maze.txt\n",
            "Maze: Mazes/empty_maze.txt\n",
            "Average Time: 0.0024 seconds\n",
            "Average Cost of path: 63.6667\n",
            "Number of nodes expanded: 832.3333\n",
            "Max depth reached: 65.6667\n",
            "Max size of frontier: 11.8333\n",
            "--------------------------\n",
            "  Running trial 0 for maze Mazes/empty_maze_2.txt\n",
            "  Running trial 10 for maze Mazes/empty_maze_2.txt\n",
            "  Running trial 20 for maze Mazes/empty_maze_2.txt\n",
            "  Running trial 30 for maze Mazes/empty_maze_2.txt\n",
            "  Running trial 40 for maze Mazes/empty_maze_2.txt\n",
            "  Running trial 50 for maze Mazes/empty_maze_2.txt\n",
            "  Running trial 60 for maze Mazes/empty_maze_2.txt\n",
            "  Running trial 70 for maze Mazes/empty_maze_2.txt\n",
            "  Running trial 80 for maze Mazes/empty_maze_2.txt\n",
            "  Running trial 90 for maze Mazes/empty_maze_2.txt\n",
            "Maze: Mazes/empty_maze_2.txt\n",
            "Average Time: 0.0022 seconds\n",
            "Average Cost of path: 56.4286\n",
            "Number of nodes expanded: 761.2857\n",
            "Max depth reached: 58.4286\n",
            "Max size of frontier: 11.7143\n",
            "--------------------------\n",
            "Depth First Search Results:\n",
            "--------------------------\n",
            "  Running trial 0 for maze Mazes/small_maze.txt\n",
            "  Running trial 10 for maze Mazes/small_maze.txt\n",
            "  Running trial 20 for maze Mazes/small_maze.txt\n",
            "  Running trial 30 for maze Mazes/small_maze.txt\n",
            "  Running trial 40 for maze Mazes/small_maze.txt\n",
            "  Running trial 50 for maze Mazes/small_maze.txt\n",
            "  Running trial 60 for maze Mazes/small_maze.txt\n",
            "  Running trial 70 for maze Mazes/small_maze.txt\n",
            "  Running trial 80 for maze Mazes/small_maze.txt\n",
            "  Running trial 90 for maze Mazes/small_maze.txt\n",
            "Maze: Mazes/small_maze.txt\n",
            "Average Time: 0.0002 seconds\n",
            "Average Cost of path: 29.0000\n",
            "Number of nodes expanded: 81.0000\n",
            "Max depth reached: 30.0000\n",
            "Max size of frontier: 26.0000\n",
            "--------------------------\n",
            "  Running trial 0 for maze Mazes/medium_maze.txt\n",
            "  Running trial 10 for maze Mazes/medium_maze.txt\n",
            "  Running trial 20 for maze Mazes/medium_maze.txt\n",
            "  Running trial 30 for maze Mazes/medium_maze.txt\n",
            "  Running trial 40 for maze Mazes/medium_maze.txt\n",
            "  Running trial 50 for maze Mazes/medium_maze.txt\n",
            "  Running trial 60 for maze Mazes/medium_maze.txt\n",
            "  Running trial 70 for maze Mazes/medium_maze.txt\n",
            "  Running trial 80 for maze Mazes/medium_maze.txt\n",
            "  Running trial 90 for maze Mazes/medium_maze.txt\n",
            "Maze: Mazes/medium_maze.txt\n",
            "Average Time: 0.0012 seconds\n",
            "Average Cost of path: 90.5000\n",
            "Number of nodes expanded: 196.5000\n",
            "Max depth reached: 91.5000\n",
            "Max size of frontier: 66.5000\n",
            "--------------------------\n",
            "  Running trial 0 for maze Mazes/large_maze.txt\n",
            "  Running trial 10 for maze Mazes/large_maze.txt\n",
            "  Running trial 20 for maze Mazes/large_maze.txt\n",
            "  Running trial 30 for maze Mazes/large_maze.txt\n",
            "  Running trial 40 for maze Mazes/large_maze.txt\n",
            "  Running trial 50 for maze Mazes/large_maze.txt\n",
            "  Running trial 60 for maze Mazes/large_maze.txt\n",
            "  Running trial 70 for maze Mazes/large_maze.txt\n",
            "  Running trial 80 for maze Mazes/large_maze.txt\n",
            "  Running trial 90 for maze Mazes/large_maze.txt\n",
            "Maze: Mazes/large_maze.txt\n",
            "Average Time: 0.0031 seconds\n",
            "Average Cost of path: 130.3333\n",
            "Number of nodes expanded: 367.6667\n",
            "Max depth reached: 133.0000\n",
            "Max size of frontier: 97.6667\n",
            "--------------------------\n",
            "  Running trial 0 for maze Mazes/loops_maze.txt\n",
            "  Running trial 10 for maze Mazes/loops_maze.txt\n",
            "  Running trial 20 for maze Mazes/loops_maze.txt\n",
            "  Running trial 30 for maze Mazes/loops_maze.txt\n",
            "  Running trial 40 for maze Mazes/loops_maze.txt\n",
            "  Running trial 50 for maze Mazes/loops_maze.txt\n",
            "  Running trial 60 for maze Mazes/loops_maze.txt\n",
            "  Running trial 70 for maze Mazes/loops_maze.txt\n",
            "  Running trial 80 for maze Mazes/loops_maze.txt\n",
            "  Running trial 90 for maze Mazes/loops_maze.txt\n",
            "Maze: Mazes/loops_maze.txt\n",
            "Average Time: 0.0024 seconds\n",
            "Average Cost of path: 104.5000\n",
            "Number of nodes expanded: 293.5000\n",
            "Max depth reached: 106.7500\n",
            "Max size of frontier: 78.7500\n",
            "--------------------------\n",
            "  Running trial 0 for maze Mazes/empty_maze.txt\n",
            "  Running trial 10 for maze Mazes/empty_maze.txt\n",
            "  Running trial 20 for maze Mazes/empty_maze.txt\n",
            "  Running trial 30 for maze Mazes/empty_maze.txt\n",
            "  Running trial 40 for maze Mazes/empty_maze.txt\n",
            "  Running trial 50 for maze Mazes/empty_maze.txt\n",
            "  Running trial 60 for maze Mazes/empty_maze.txt\n",
            "  Running trial 70 for maze Mazes/empty_maze.txt\n",
            "  Running trial 80 for maze Mazes/empty_maze.txt\n",
            "  Running trial 90 for maze Mazes/empty_maze.txt\n",
            "Maze: Mazes/empty_maze.txt\n",
            "Average Time: 0.0021 seconds\n",
            "Average Cost of path: 99.6000\n",
            "Number of nodes expanded: 293.6000\n",
            "Max depth reached: 101.6000\n",
            "Max size of frontier: 89.2000\n",
            "--------------------------\n",
            "  Running trial 0 for maze Mazes/empty_maze_2.txt\n",
            "  Running trial 10 for maze Mazes/empty_maze_2.txt\n",
            "  Running trial 20 for maze Mazes/empty_maze_2.txt\n",
            "  Running trial 30 for maze Mazes/empty_maze_2.txt\n",
            "  Running trial 40 for maze Mazes/empty_maze_2.txt\n",
            "  Running trial 50 for maze Mazes/empty_maze_2.txt\n",
            "  Running trial 60 for maze Mazes/empty_maze_2.txt\n",
            "  Running trial 70 for maze Mazes/empty_maze_2.txt\n",
            "  Running trial 80 for maze Mazes/empty_maze_2.txt\n",
            "  Running trial 90 for maze Mazes/empty_maze_2.txt\n",
            "Maze: Mazes/empty_maze_2.txt\n",
            "Average Time: 0.0018 seconds\n",
            "Average Cost of path: 88.6667\n",
            "Number of nodes expanded: 263.8333\n",
            "Max depth reached: 90.5000\n",
            "Max size of frontier: 86.5000\n",
            "--------------------------\n",
            "  Running trial 0 for maze Mazes\\open_maze.txt\n",
            "  Running trial 1 for maze Mazes\\open_maze.txt\n",
            "  Running trial 2 for maze Mazes\\open_maze.txt\n",
            "  Running trial 3 for maze Mazes\\open_maze.txt\n",
            "  Running trial 4 for maze Mazes\\open_maze.txt\n",
            "  Running trial 5 for maze Mazes\\open_maze.txt\n",
            "  Running trial 6 for maze Mazes\\open_maze.txt\n",
            "  Running trial 7 for maze Mazes\\open_maze.txt\n",
            "  Running trial 8 for maze Mazes\\open_maze.txt\n",
            "  Running trial 9 for maze Mazes\\open_maze.txt\n",
            "  Running trial 10 for maze Mazes\\open_maze.txt\n",
            "  Running trial 11 for maze Mazes\\open_maze.txt\n",
            "  Running trial 12 for maze Mazes\\open_maze.txt\n",
            "  Running trial 13 for maze Mazes\\open_maze.txt\n",
            "  Running trial 14 for maze Mazes\\open_maze.txt\n",
            "  Running trial 15 for maze Mazes\\open_maze.txt\n",
            "  Running trial 16 for maze Mazes\\open_maze.txt\n",
            "  Running trial 17 for maze Mazes\\open_maze.txt\n",
            "  Running trial 18 for maze Mazes\\open_maze.txt\n",
            "  Running trial 19 for maze Mazes\\open_maze.txt\n",
            "  Running trial 20 for maze Mazes\\open_maze.txt\n",
            "  Running trial 21 for maze Mazes\\open_maze.txt\n",
            "  Running trial 22 for maze Mazes\\open_maze.txt\n",
            "  Running trial 23 for maze Mazes\\open_maze.txt\n",
            "  Running trial 24 for maze Mazes\\open_maze.txt\n",
            "  Running trial 25 for maze Mazes\\open_maze.txt\n",
            "  Running trial 26 for maze Mazes\\open_maze.txt\n",
            "  Running trial 27 for maze Mazes\\open_maze.txt\n",
            "  Running trial 28 for maze Mazes\\open_maze.txt\n",
            "  Running trial 29 for maze Mazes\\open_maze.txt\n",
            "  Running trial 30 for maze Mazes\\open_maze.txt\n",
            "  Running trial 31 for maze Mazes\\open_maze.txt\n",
            "  Running trial 32 for maze Mazes\\open_maze.txt\n",
            "  Running trial 33 for maze Mazes\\open_maze.txt\n",
            "  Running trial 34 for maze Mazes\\open_maze.txt\n",
            "  Running trial 35 for maze Mazes\\open_maze.txt\n",
            "  Running trial 36 for maze Mazes\\open_maze.txt\n",
            "  Running trial 37 for maze Mazes\\open_maze.txt\n",
            "  Running trial 38 for maze Mazes\\open_maze.txt\n",
            "  Running trial 39 for maze Mazes\\open_maze.txt\n",
            "  Running trial 40 for maze Mazes\\open_maze.txt\n",
            "  Running trial 41 for maze Mazes\\open_maze.txt\n",
            "  Running trial 42 for maze Mazes\\open_maze.txt\n",
            "  Running trial 43 for maze Mazes\\open_maze.txt\n",
            "  Running trial 44 for maze Mazes\\open_maze.txt\n",
            "  Running trial 45 for maze Mazes\\open_maze.txt\n",
            "  Running trial 46 for maze Mazes\\open_maze.txt\n",
            "  Running trial 47 for maze Mazes\\open_maze.txt\n",
            "  Running trial 48 for maze Mazes\\open_maze.txt\n",
            "  Running trial 49 for maze Mazes\\open_maze.txt\n",
            "  Running trial 50 for maze Mazes\\open_maze.txt\n",
            "  Running trial 51 for maze Mazes\\open_maze.txt\n",
            "  Running trial 52 for maze Mazes\\open_maze.txt\n",
            "  Running trial 53 for maze Mazes\\open_maze.txt\n",
            "  Running trial 54 for maze Mazes\\open_maze.txt\n",
            "  Running trial 55 for maze Mazes\\open_maze.txt\n",
            "  Running trial 56 for maze Mazes\\open_maze.txt\n",
            "  Running trial 57 for maze Mazes\\open_maze.txt\n",
            "  Running trial 58 for maze Mazes\\open_maze.txt\n",
            "  Running trial 59 for maze Mazes\\open_maze.txt\n",
            "  Running trial 60 for maze Mazes\\open_maze.txt\n",
            "  Running trial 61 for maze Mazes\\open_maze.txt\n",
            "  Running trial 62 for maze Mazes\\open_maze.txt\n",
            "  Running trial 63 for maze Mazes\\open_maze.txt\n",
            "  Running trial 64 for maze Mazes\\open_maze.txt\n",
            "  Running trial 65 for maze Mazes\\open_maze.txt\n",
            "  Running trial 66 for maze Mazes\\open_maze.txt\n",
            "  Running trial 67 for maze Mazes\\open_maze.txt\n",
            "  Running trial 68 for maze Mazes\\open_maze.txt\n",
            "  Running trial 69 for maze Mazes\\open_maze.txt\n",
            "  Running trial 70 for maze Mazes\\open_maze.txt\n",
            "  Running trial 71 for maze Mazes\\open_maze.txt\n",
            "  Running trial 72 for maze Mazes\\open_maze.txt\n",
            "  Running trial 73 for maze Mazes\\open_maze.txt\n",
            "  Running trial 74 for maze Mazes\\open_maze.txt\n",
            "  Running trial 75 for maze Mazes\\open_maze.txt\n",
            "  Running trial 76 for maze Mazes\\open_maze.txt\n",
            "  Running trial 77 for maze Mazes\\open_maze.txt\n",
            "  Running trial 78 for maze Mazes\\open_maze.txt\n",
            "  Running trial 79 for maze Mazes\\open_maze.txt\n",
            "  Running trial 80 for maze Mazes\\open_maze.txt\n",
            "  Running trial 81 for maze Mazes\\open_maze.txt\n",
            "  Running trial 82 for maze Mazes\\open_maze.txt\n",
            "  Running trial 83 for maze Mazes\\open_maze.txt\n",
            "  Running trial 84 for maze Mazes\\open_maze.txt\n",
            "  Running trial 85 for maze Mazes\\open_maze.txt\n",
            "  Running trial 86 for maze Mazes\\open_maze.txt\n",
            "  Running trial 87 for maze Mazes\\open_maze.txt\n",
            "  Running trial 88 for maze Mazes\\open_maze.txt\n",
            "  Running trial 89 for maze Mazes\\open_maze.txt\n",
            "  Running trial 90 for maze Mazes\\open_maze.txt\n",
            "  Running trial 91 for maze Mazes\\open_maze.txt\n",
            "  Running trial 92 for maze Mazes\\open_maze.txt\n",
            "  Running trial 93 for maze Mazes\\open_maze.txt\n",
            "  Running trial 94 for maze Mazes\\open_maze.txt\n",
            "  Running trial 95 for maze Mazes\\open_maze.txt\n",
            "  Running trial 96 for maze Mazes\\open_maze.txt\n",
            "  Running trial 97 for maze Mazes\\open_maze.txt\n",
            "  Running trial 98 for maze Mazes\\open_maze.txt\n",
            "  Running trial 99 for maze Mazes\\open_maze.txt\n",
            "Maze: Mazes\\open_maze.txt\n",
            "Average Time: 0.0016 seconds\n",
            "Average Cost of path: 80.8571\n",
            "Number of nodes expanded: 242.5714\n",
            "Max depth reached: 82.5714\n",
            "Max size of frontier: 84.5714\n"
          ]
        }
      ],
      "source": [
        "# Testing All Mazes on BFS/DFS\n",
        "mazes = [\"Mazes/small_maze.txt\", \"Mazes/medium_maze.txt\", \"Mazes/large_maze.txt\", \"Mazes/open_maze.txt\", \"Mazes/loops_maze.txt\", \"Mazes/empty_maze.txt\", \"Mazes/empty_maze_2.txt\"]\n",
        "dfs_mazes = [\"Mazes/small_maze.txt\", \"Mazes/medium_maze.txt\", \"Mazes/large_maze.txt\", \"Mazes/loops_maze.txt\", \"Mazes/empty_maze.txt\", \"Mazes/empty_maze_2.txt\"]\n",
        "open_maze= \"Mazes\\open_maze.txt\"\n",
        "import time\n",
        "import statistics\n",
        "import pprint\n",
        "times = []\n",
        "costs = []\n",
        "num_expanded = []\n",
        "max_depths = []\n",
        "max_frontiers = []\n",
        "print(\"Breadth First Search Results:\")\n",
        "print(\"--------------------------\")\n",
        "for m in mazes:\n",
        "    for i in range(100):\n",
        "        if i % 10 == 0:\n",
        "            print(f\"  Running trial {i} for maze {m}\")\n",
        "        f = open(m, \"r\")\n",
        "        maze_str = f.read()\n",
        "        maze = mh.parse_maze(maze_str)\n",
        "        start_time = time.time()\n",
        "        result_path, result_cost, result_num_expanded, result_max_depth, result_max_frontier = breadth_first_search(maze)\n",
        "        end_time = time.time()\n",
        "        times.append(end_time - start_time)\n",
        "        costs.append(result_cost)\n",
        "        num_expanded.append(result_num_expanded)\n",
        "        max_depths.append(result_max_depth)\n",
        "        max_frontiers.append(result_max_frontier)\n",
        "    print(f\"Maze: {m}\")\n",
        "    print(f\"Average Time: {statistics.mean(times):.4f} seconds\")\n",
        "    print(f\"Average Cost of path: {statistics.mean(costs):.4f}\")\n",
        "    print(f\"Number of nodes expanded: {statistics.mean(num_expanded):.4f}\")\n",
        "    print(f\"Max depth reached: {statistics.mean(max_depths):.4f}\")\n",
        "    print(f\"Max size of frontier: {statistics.mean(max_frontiers):.4f}\")\n",
        "    print(\"--------------------------\")\n",
        "times.clear()\n",
        "costs.clear()\n",
        "num_expanded.clear()\n",
        "max_depths.clear()\n",
        "max_frontiers.clear()\n",
        "print(\"Depth First Search Results:\")\n",
        "print(\"--------------------------\")\n",
        "for m in dfs_mazes:\n",
        "    for i in range(100):\n",
        "        if i % 10 == 0:\n",
        "            print(f\"  Running trial {i} for maze {m}\")\n",
        "        f = open(m, \"r\")\n",
        "        maze_str = f.read()\n",
        "        maze = mh.parse_maze(maze_str)\n",
        "        start_time = time.time()\n",
        "        result_path, result_cost, result_num_expanded, result_max_depth, result_max_frontier = depth_first_search(maze)\n",
        "        end_time = time.time()\n",
        "        times.append(end_time - start_time)\n",
        "        costs.append(result_cost)\n",
        "        num_expanded.append(result_num_expanded)\n",
        "        max_depths.append(result_max_depth)\n",
        "        max_frontiers.append(result_max_frontier)\n",
        "    print(f\"Maze: {m}\")\n",
        "    print(f\"Average Time: {statistics.mean(times):.4f} seconds\")\n",
        "    print(f\"Average Cost of path: {statistics.mean(costs):.4f}\")\n",
        "    print(f\"Number of nodes expanded: {statistics.mean(num_expanded):.4f}\")\n",
        "    print(f\"Max depth reached: {statistics.mean(max_depths):.4f}\")\n",
        "    print(f\"Max size of frontier: {statistics.mean(max_frontiers):.4f}\")\n",
        "    print(\"--------------------------\")\n",
        "\n",
        "for i in range(100):\n",
        "    print(f\"  Running trial {i} for maze {open_maze}\")\n",
        "    f = open(m, \"r\")\n",
        "    maze_str = f.read()\n",
        "    maze = mh.parse_maze(maze_str)\n",
        "    start_time = time.time()\n",
        "    result_path, result_cost, result_num_expanded, result_max_depth, result_max_frontier = depth_first_search(maze)\n",
        "    end_time = time.time()\n",
        "    times.append(end_time - start_time)\n",
        "    costs.append(result_cost)\n",
        "    num_expanded.append(result_num_expanded)\n",
        "    max_depths.append(result_max_depth)\n",
        "    max_frontiers.append(result_max_frontier)\n",
        "print(f\"Maze: {open_maze}\")\n",
        "print(f\"Average Time: {statistics.mean(times):.4f} seconds\")\n",
        "print(f\"Average Cost of path: {statistics.mean(costs):.4f}\")\n",
        "print(f\"Number of nodes expanded: {statistics.mean(num_expanded):.4f}\")\n",
        "print(f\"Max depth reached: {statistics.mean(max_depths):.4f}\")\n",
        "print(f\"Max size of frontier: {statistics.mean(max_frontiers):.4f}\")\n"
      ]
    },
    {
      "cell_type": "markdown",
      "metadata": {
        "id": "e1aLLzyDNdqh"
      },
      "source": [
        "**How does BFS and DFS (without a reached data structure) deal with loops (cycles)?**"
      ]
    },
    {
      "cell_type": "markdown",
      "metadata": {},
      "source": [
        "In BFS, my algorithm keeps a log of expanded nodes, and compares against that log. This ensures there will be no cycles generated, as it invalidates potential moves that would cause a cycle. \n",
        "\n",
        "In DFS, my algorithm checks for cycles by checking for a searched node reoccuring in the parent nodes of the searched node. If this is true, there is a cycle present within the tree structure. However, this does require additional computation node to check for cycles."
      ]
    },
    {
      "cell_type": "markdown",
      "metadata": {
        "id": "vEVphA4cNdqh"
      },
      "source": [
        "**Are your implementations complete and optimal? Explain why. What is the time and space complexity of each of **your** implementations? Especially discuss the difference in space complexity between BFS and DFS.**"
      ]
    },
    {
      "cell_type": "markdown",
      "metadata": {},
      "source": [
        "Both implementations are complete, as are all other solving algorithms for this problem due to the finite space size. \n",
        "\n",
        "BFS is optimal, as it will find a optimal solution upon every running of the program. The time and space complexity of BFS is O(b^d) where b is the number of successor nodes, and d is the depth of the search. BFS will replicate this complexity on every runtime.\n",
        "\n",
        "DFS is not optimal, as it will provide the first solution it finds. The time complexity of DFS is O(b^m) but the space complexity is O(bm), which makes it better for larger problems due to the reduced memory burden. "
      ]
    },
    {
      "cell_type": "markdown",
      "metadata": {
        "id": "LFA9QPdxNdqi"
      },
      "source": [
        "## Task 3: Informed search: Implement greedy best-first search and A* search  [20 Points]\n",
        "\n",
        "You can use the map to estimate the distance from your current position to the goal using the Manhattan distance (see https://en.wikipedia.org/wiki/Taxicab_geometry) as a heuristic function. Both algorithms are based on Best-First search which requires only a small change from the BFS algorithm you have already implemented (see textbook/slides)."
      ]
    },
    {
      "cell_type": "code",
      "execution_count": 174,
      "metadata": {
        "id": "kvD6psKlNdqi"
      },
      "outputs": [],
      "source": [
        "def manhattan_distance(pos, goal):\n",
        "    return abs(pos[0] - goal[0]) + abs(pos[1] - goal[1])\n",
        "def greedy_best_first_search(maze):\n",
        "    start_state = mh.find_pos(maze, what = \"S\")\n",
        "    goal_state = mh.find_pos(maze, what = \"G\")\n",
        "    start_node = Node(start_state, None, None, 0)\n",
        "    frontier = [start_node]\n",
        "    reached = {start_node.pos}\n",
        "    number_of_nodes_expanded = 0\n",
        "    max_depth = 0\n",
        "    max_frontier = 0\n",
        "\n",
        "    while not len(frontier) == 0: # while frontier is not empty\n",
        "        frontier_heuristic = []\n",
        "        for node in frontier:\n",
        "            h = manhattan_distance(node.pos, goal_state)\n",
        "            frontier_heuristic.append((h, node))\n",
        "        frontier_heuristic.sort(key=lambda x: x[0]) # sort by heuristic value\n",
        "        node = frontier_heuristic[0][1] # get node with lowest heuristic value\n",
        "        frontier.remove(node) # remove node from frontier\n",
        "        if node.pos == goal_state:\n",
        "            p= node.get_path_from_root()\n",
        "            path = [n.action for n in p]\n",
        "            cost = node.cost # path cost for solution\n",
        "            return path, cost, number_of_nodes_expanded, max_depth, max_frontier\n",
        "        for child in expand_node(node, maze): #for each child node that is expanded\n",
        "            action = child[0] # direction\n",
        "            child_node = child[1] # position (row,col)\n",
        "            s=Node(child_node, node, action, cost = node.cost + 1) # create new node, increase cost by 1 \n",
        "            number_of_nodes_expanded += 1\n",
        "            p= s.get_path_from_root() \n",
        "            path = [n.action for n in p]\n",
        "            if len(path) > max_depth:\n",
        "                    max_depth = len(path) # update max depth\n",
        "            if not child_node in reached:\n",
        "                    reached.add(child_node) # add to reached set\n",
        "                    frontier.append(s) # add to frontier\n",
        "                    if len(frontier) > max_frontier:\n",
        "                            max_frontier = len(frontier) # update max frontier size\n",
        "    print(\"No solution found\") # Worst Case, should not trigger\n",
        "    return None #Worst Case, should not trigger"
      ]
    },
    {
      "cell_type": "code",
      "execution_count": 176,
      "metadata": {},
      "outputs": [],
      "source": [
        "def a_star_search(maze):\n",
        "    start_state = mh.find_pos(maze, what = \"S\")\n",
        "    goal_state = mh.find_pos(maze, what = \"G\")\n",
        "    start_node = Node(start_state, None, None, 0)\n",
        "    frontier = [start_node]\n",
        "    reached = {start_node.pos}\n",
        "    number_of_nodes_expanded = 0\n",
        "    max_depth = 0\n",
        "    max_frontier = 0\n",
        "\n",
        "    while not len(frontier) == 0: # while frontier is not empty\n",
        "        frontier_heuristic = []\n",
        "        for node in frontier:\n",
        "            g = node.cost\n",
        "            h = manhattan_distance(node.pos, goal_state)\n",
        "            f = g + h\n",
        "            frontier_heuristic.append((f, node))\n",
        "        frontier_heuristic.sort(key=lambda x: x[0]) # sort by f value\n",
        "        node = frontier_heuristic[0][1] # get node with lowest f value\n",
        "        frontier.remove(node) # remove node from frontier\n",
        "        if node.pos == goal_state:\n",
        "            p= node.get_path_from_root()\n",
        "            path = [n.action for n in p]\n",
        "            cost = node.cost # path cost for solution\n",
        "            return path, cost, number_of_nodes_expanded, max_depth, max_frontier\n",
        "        for child in expand_node(node, maze): #for each child node that is expanded\n",
        "            action = child[0] # direction\n",
        "            child_node = child[1] # position (row,col)\n",
        "            s=Node(child_node, node, action, cost = node.cost + 1) # create new node, increase cost by 1 \n",
        "            number_of_nodes_expanded += 1\n",
        "            p= s.get_path_from_root() \n",
        "            path = [n.action for n in p]\n",
        "            if len(path) > max_depth:\n",
        "                    max_depth = len(path) # update max depth\n",
        "            if not child_node in reached:\n",
        "                    reached.add(child_node) # add to reached set\n",
        "                    frontier.append(s) # add to frontier\n",
        "                    if len(frontier) > max_frontier:\n",
        "                            max_frontier = len(frontier) # update max frontier size\n",
        "    print(\"No solution found\") # Worst Case, should not trigger\n",
        "    return None #Worst Case, should not trigger"
      ]
    },
    {
      "cell_type": "code",
      "execution_count": 175,
      "metadata": {},
      "outputs": [
        {
          "name": "stdout",
          "output_type": "stream",
          "text": [
            "Path to goal: [None, 'W', 'W', 'W', 'W', 'W', 'S', 'S', 'S', 'E', 'E', 'N', 'E', 'E', 'E', 'E', 'S', 'S', 'W', 'W', 'S', 'W', 'W', 'W', 'W', 'W', 'W', 'W', 'W', 'W']\n",
            "Cost of path: 29\n",
            "Number of nodes expanded: 81\n",
            "Max depth reached: 30\n",
            "Max size of frontier: 5\n"
          ]
        }
      ],
      "source": [
        "#Greedy Best First Search Test\n",
        "f = open(\"Mazes/small_maze.txt\", \"r\")\n",
        "maze_str = f.read()\n",
        "maze = mh.parse_maze(maze_str)\n",
        "result_path, result_cost, result_num_expanded, result_max_depth, result_max_frontier = greedy_best_first_search(maze)\n",
        "print(\"Path to goal:\", result_path)\n",
        "print(\"Cost of path:\", result_cost)\n",
        "print(\"Number of nodes expanded:\", result_num_expanded)\n",
        "print(\"Max depth reached:\", result_max_depth)\n",
        "print(\"Max size of frontier:\", result_max_frontier)\n"
      ]
    },
    {
      "cell_type": "code",
      "execution_count": 177,
      "metadata": {},
      "outputs": [
        {
          "name": "stdout",
          "output_type": "stream",
          "text": [
            "Path to goal: [None, 'E', 'E', 'S', 'S', 'W', 'S', 'S', 'W', 'W', 'S', 'W', 'W', 'W', 'W', 'W', 'W', 'W', 'W', 'W']\n",
            "Cost of path: 19\n",
            "Number of nodes expanded: 110\n",
            "Max depth reached: 20\n",
            "Max size of frontier: 8\n"
          ]
        }
      ],
      "source": [
        "# A* Search Test\n",
        "f = open(\"Mazes/small_maze.txt\", \"r\")\n",
        "maze_str = f.read()\n",
        "maze = mh.parse_maze(maze_str)\n",
        "result_path, result_cost, result_num_expanded, result_max_depth, result_max_frontier = a_star_search(maze)\n",
        "print(\"Path to goal:\", result_path)\n",
        "print(\"Cost of path:\", result_cost)\n",
        "print(\"Number of nodes expanded:\", result_num_expanded)\n",
        "print(\"Max depth reached:\", result_max_depth)\n",
        "print(\"Max size of frontier:\", result_max_frontier)\n"
      ]
    },
    {
      "cell_type": "markdown",
      "metadata": {
        "id": "puoTxx8eNdqi"
      },
      "source": [
        "**Are your implementations complete and optimal? What is the time and space complexity?**"
      ]
    },
    {
      "cell_type": "markdown",
      "metadata": {},
      "source": []
    },
    {
      "cell_type": "markdown",
      "metadata": {
        "id": "zrWtcY-ZNdqi"
      },
      "source": [
        "## Task 4: Comparison and discussion [20 Points]\n",
        "\n",
        "Run experiments to compare the implemented algorithms.\n",
        "\n",
        "How to deal with issues:\n",
        "\n",
        "* Your implementation returns unexpected results: Try to debug and fix the code. Visualizing the maze, the current path and the frontier after every step is very helpful. If the code still does not work, then mark the result with an asterisk (*) and describe the issue below the table.\n",
        "\n",
        "* Your implementation cannot consistently solve a specific maze and ends up in an infinite loop:\n",
        "    Debug (likely your frontier and cycle checking for DFS are the issue). If it is a shortcoming of the algorithm/implementation, then put \"N/A*\" in the results table and describe why this is happening."
      ]
    },
    {
      "cell_type": "code",
      "execution_count": null,
      "metadata": {
        "id": "PgHs7Z0FNdqi"
      },
      "outputs": [],
      "source": [
        "# Add code"
      ]
    },
    {
      "cell_type": "markdown",
      "metadata": {
        "id": "lJolMJDbNdqi"
      },
      "source": [
        "Complete the following table for each maze.\n",
        "\n",
        "__Small maze__\n",
        "\n",
        "| algorithm | path cost | # of nodes expanded | max tree depth | max # of nodes in memory | max frontier size |\n",
        "|-----------|-----------|----------------|----------------|---------------|-------------------|\n",
        "| BFS       |           |                |                |               |                   |\n",
        "| DFS       |           |                |                |               |                   |\n",
        "| GBS       |           |                |                |               |                   |\n",
        "| A*        |           |                |                |               |                   |\n",
        "\n",
        "__Medium Maze__\n",
        "\n",
        "..."
      ]
    },
    {
      "cell_type": "markdown",
      "metadata": {
        "id": "dMhoI8z7Ndqi"
      },
      "source": [
        "Present the results as using charts (see [Python Code Examples/charts and tables](../HOWTOs/charts_and_tables.ipynb))."
      ]
    },
    {
      "cell_type": "code",
      "execution_count": null,
      "metadata": {
        "id": "aFlQrGLzNdqi"
      },
      "outputs": [],
      "source": [
        "# Add charts"
      ]
    },
    {
      "cell_type": "markdown",
      "metadata": {
        "id": "Ryes1NNfNdqi"
      },
      "source": [
        "Discuss the most important lessons you have learned from implementing the different search strategies."
      ]
    },
    {
      "cell_type": "code",
      "execution_count": null,
      "metadata": {
        "id": "vSmOySOtNdqj"
      },
      "outputs": [],
      "source": [
        "# Add discussion"
      ]
    },
    {
      "cell_type": "markdown",
      "metadata": {
        "id": "R7m_LNq2Ndqj"
      },
      "source": [
        "## Advanced task: IDS and Multiple goals\n",
        "\n",
        "* __Graduate students__ need to complete this task [10 points]\n",
        "* __Undergraduate students__ can attempt this as a bonus task [max +5 bonus points].\n",
        "\n",
        "### IDS\n",
        "Implement IDS (iterative deepening search) using your DFS implementation. Test IDS on the mazes above. You may run into some issues with mazes with open spaces. If you cannot resolve the issues, then report and discuss what causes the problems."
      ]
    },
    {
      "cell_type": "code",
      "execution_count": null,
      "metadata": {
        "id": "wAniG5SSNdqj"
      },
      "outputs": [],
      "source": [
        "# Your code/answer goes here"
      ]
    },
    {
      "cell_type": "markdown",
      "metadata": {
        "id": "3-SpuhFANdqj"
      },
      "source": [
        "### Multiple Goals\n",
        "Create a few mazes with multiple goals by adding one or two more goals to the medium size maze. The agent is done when it finds one of the goals.\n",
        "Solve the maze with your implementations for DFS, BFS, and IDS. Run experiments to show which implementations find the optimal solution and which do not. Discuss why that is the case."
      ]
    },
    {
      "cell_type": "code",
      "execution_count": null,
      "metadata": {
        "id": "BIBsbvddNdqj"
      },
      "outputs": [],
      "source": [
        "# Your code/answer goes here"
      ]
    },
    {
      "cell_type": "markdown",
      "metadata": {
        "id": "wmvnvb7ONdqj"
      },
      "source": [
        "## More Advanced Problems to Think About (not for credit)\n",
        "\n",
        "If the assignment was to easy for yuo then you can think about the following problems. These problems are challenging and not part of this assignment.\n",
        "\n",
        "### Intersection as States\n",
        "Instead of defining each square as a state, use only intersections as states. Now the storage requirement is reduced, but the path length between two intersections can be different. If we use total path length measured as the number of squares as path cost, how can we make sure that BFS and iterative deepening search is optimal? Change the code to do so."
      ]
    },
    {
      "cell_type": "code",
      "execution_count": null,
      "metadata": {
        "id": "BKyqJELQNdqj"
      },
      "outputs": [],
      "source": [
        "# Your code/answer goes here"
      ]
    },
    {
      "cell_type": "markdown",
      "metadata": {
        "id": "oSOFDU9VNdqj"
      },
      "source": [
        "### Weighted A* search\n",
        "Modify your A* search to add weights (see text book) and explore how different weights influence the result."
      ]
    },
    {
      "cell_type": "code",
      "execution_count": null,
      "metadata": {
        "id": "MADtYjkkNdqj"
      },
      "outputs": [],
      "source": [
        "# Your code/answer goes here"
      ]
    },
    {
      "cell_type": "markdown",
      "metadata": {
        "id": "AOtLCIZCNdqj"
      },
      "source": [
        "### Unknown Maze\n",
        "What happens if the agent does not know the layout of the maze in advance? This means that the agent faces an unknown environment, where it does not know the transition function. How does the environment look then (PEAS description)? How would you implement a rational agent to solve the maze? What if the agent still has a GPS device to tell the distance to the goal?"
      ]
    },
    {
      "cell_type": "code",
      "execution_count": null,
      "metadata": {
        "id": "PWqiWzO9Ndqj"
      },
      "outputs": [],
      "source": [
        "# Your code/answer goes here"
      ]
    }
  ],
  "metadata": {
    "colab": {
      "provenance": []
    },
    "kernelspec": {
      "display_name": "Python 3",
      "language": "python",
      "name": "python3"
    },
    "language_info": {
      "codemirror_mode": {
        "name": "ipython",
        "version": 3
      },
      "file_extension": ".py",
      "mimetype": "text/x-python",
      "name": "python",
      "nbconvert_exporter": "python",
      "pygments_lexer": "ipython3",
      "version": "3.11.9"
    }
  },
  "nbformat": 4,
  "nbformat_minor": 0
}
